import cv2
import numpy
photo=numpy.zeros((500,500,3))
photo=cv2.rectangle(photo,(150,150),(350,400),[0,34,255],5)
photo=cv2.line(photo,(150,150),(250,50),[231,0,255],5)
photo=cv2.line(photo,(350,150),(250,50),[231,0,255],5)
photo=cv2.rectangle(photo,(200,270),(300,400),[255,0,255],5)
photo=cv2.line(photo,(200,270),(250,300),[255,3,255],5)
photo=cv2.line(photo,(250,300),(250,400),[255,255,0],5)
photo=cv2.rectangle(photo,(180,180),(220,220),[255,0,0],3)
photo=cv2.circle(photo,(255,255),220,[255,0,0],5)
photo=cv2.circle(photo,(255,255),230,[0,255,0],5)
photo=cv2.circle(photo,(255,255),240,[0,0,255],5)
cv2.imshow('hi',photo)
if cv2.waitKey()==13:
     pass
cv2.destroyAllWindows(
